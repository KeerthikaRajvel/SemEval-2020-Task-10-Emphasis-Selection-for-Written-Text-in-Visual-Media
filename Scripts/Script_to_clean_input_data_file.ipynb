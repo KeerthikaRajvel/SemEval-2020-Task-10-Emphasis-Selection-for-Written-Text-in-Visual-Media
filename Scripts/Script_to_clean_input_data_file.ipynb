{
 "cells": [
  {
   "cell_type": "code",
   "execution_count": 2,
   "metadata": {},
   "outputs": [
    {
     "name": "stdout",
     "output_type": "stream",
     "text": [
      "Enter input file name: trial_data.txt\n"
     ]
    }
   ],
   "source": []
  },
  {
   "cell_type": "code",
   "execution_count": 3,
   "metadata": {},
   "outputs": [
    {
     "name": "stdout",
     "output_type": "stream",
     "text": [
      "Enter output file name: trial_clean.txt\n"
     ]
    }
   ],
   "source": [
    "ip_filename = input(\"Enter input file name: \")\n",
    "with open(ip_filename, 'r') as fp:\n",
    "    lines = [line.strip() for line in fp]\n",
    "op_filename = input(\"Enter output file name: \")\n",
    "with open(op_filename, 'w+') as out:\n",
    "    for l in lines:\n",
    "        splitted = l.split(\"\\t\")\n",
    "        to_write = []\n",
    "        for i in range(1,len(splitted)):\n",
    "            to_write.append(splitted[i])\n",
    "        sent = \"\\t\".join(to_write)\n",
    "        out.write(sent + \"\\n\")\n",
    "out.close()\n",
    "    \n",
    "        \n"
   ]
  },
  {
   "cell_type": "code",
   "execution_count": null,
   "metadata": {},
   "outputs": [],
   "source": []
  }
 ],
 "metadata": {
  "kernelspec": {
   "display_name": "Python 3",
   "language": "python",
   "name": "python3"
  },
  "language_info": {
   "codemirror_mode": {
    "name": "ipython",
    "version": 3
   },
   "file_extension": ".py",
   "mimetype": "text/x-python",
   "name": "python",
   "nbconvert_exporter": "python",
   "pygments_lexer": "ipython3",
   "version": "3.6.7"
  }
 },
 "nbformat": 4,
 "nbformat_minor": 2
}
